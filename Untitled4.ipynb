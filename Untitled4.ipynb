{
  "nbformat": 4,
  "nbformat_minor": 0,
  "metadata": {
    "colab": {
      "name": "Untitled4.ipynb",
      "provenance": [],
      "authorship_tag": "ABX9TyPPwo9GGcLdCO2NAnjhJdpX",
      "include_colab_link": true
    },
    "kernelspec": {
      "name": "python3",
      "display_name": "Python 3"
    },
    "language_info": {
      "name": "python"
    }
  },
  "cells": [
    {
      "cell_type": "markdown",
      "metadata": {
        "id": "view-in-github",
        "colab_type": "text"
      },
      "source": [
        "<a href=\"https://colab.research.google.com/github/dike1755/Countdown-Calculator/blob/main/Untitled4.ipynb\" target=\"_parent\"><img src=\"https://colab.research.google.com/assets/colab-badge.svg\" alt=\"Open In Colab\"/></a>"
      ]
    },
    {
      "cell_type": "code",
      "execution_count": 19,
      "metadata": {
        "colab": {
          "base_uri": "https://localhost:8080/"
        },
        "id": "oHTIBeFFIAel",
        "outputId": "3ed9ad90-a086-4d7a-8f0d-d9c6a73a23e1"
      },
      "outputs": [
        {
          "output_type": "stream",
          "name": "stdout",
          "text": [
            "Enter the zipcode :LN5 7SH\n",
            "zipcode: LN5 7SH\n",
            "Details of the zipcode\n",
            "Lincoln, Lincolnshire, England, LN5 7SH, United Kingdom\n"
          ]
        }
      ],
      "source": [
        "\n",
        "from geopy.geocoders import Nominatim\n",
        "#using  Nominatim Api\n",
        "geolocator = Nominatim(user_agent=\"geoapiexercises\")\n",
        "\n",
        "#zipcode imput \n",
        "a = input(\"Enter the zipcode :\")\n",
        "zipcode = a\n",
        "\n",
        "#using geocode\n",
        "location = geolocator.geocode(zipcode)\n",
        "\n",
        "#Displaying address details\n",
        "print(\"zipcode:\",zipcode)\n",
        "print(\"Details of the zipcode\")\n",
        "print(location)\n",
        "\n"
      ]
    }
  ]
}